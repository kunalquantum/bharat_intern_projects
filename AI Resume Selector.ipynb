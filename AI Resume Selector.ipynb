{
 "cells": [
  {
   "cell_type": "markdown",
   "id": "12b26e50",
   "metadata": {},
   "source": [
    "# AI Resume Parser (Ntk)"
   ]
  },
  {
   "cell_type": "code",
   "execution_count": 9,
   "id": "926bcc40",
   "metadata": {},
   "outputs": [],
   "source": [
    "import nltk\n",
    "from nltk.tokenize import word_tokenize\n",
    "from nltk.corpus import stopwords\n",
    "from nltk.stem import WordNetLemmatizer\n",
    "import PyPDF2\n",
    "import re"
   ]
  },
  {
   "cell_type": "code",
   "execution_count": 10,
   "id": "e0a4f21c",
   "metadata": {},
   "outputs": [
    {
     "name": "stderr",
     "output_type": "stream",
     "text": [
      "[nltk_data] Downloading package punkt to\n",
      "[nltk_data]     C:\\Users\\Admin\\AppData\\Roaming\\nltk_data...\n",
      "[nltk_data]   Package punkt is already up-to-date!\n",
      "[nltk_data] Downloading package stopwords to\n",
      "[nltk_data]     C:\\Users\\Admin\\AppData\\Roaming\\nltk_data...\n",
      "[nltk_data]   Package stopwords is already up-to-date!\n",
      "[nltk_data] Downloading package wordnet to\n",
      "[nltk_data]     C:\\Users\\Admin\\AppData\\Roaming\\nltk_data...\n",
      "[nltk_data]   Package wordnet is already up-to-date!\n",
      "[nltk_data] Downloading package omw-1.4 to\n",
      "[nltk_data]     C:\\Users\\Admin\\AppData\\Roaming\\nltk_data...\n",
      "[nltk_data]   Package omw-1.4 is already up-to-date!\n"
     ]
    },
    {
     "data": {
      "text/plain": [
       "True"
      ]
     },
     "execution_count": 10,
     "metadata": {},
     "output_type": "execute_result"
    }
   ],
   "source": [
    "# Download NLTK resources\n",
    "nltk.download('punkt')\n",
    "nltk.download('stopwords')\n",
    "nltk.download('wordnet')\n",
    "nltk.download('omw-1.4')\n"
   ]
  },
  {
   "cell_type": "code",
   "execution_count": 11,
   "id": "cab9208a",
   "metadata": {},
   "outputs": [],
   "source": [
    "def preprocess_text(text):\n",
    "    # Tokenize the text\n",
    "    tokens = word_tokenize(text)\n",
    "    \n",
    "    # Convert to lowercase\n",
    "    tokens = [token.lower() for token in tokens]\n",
    "    \n",
    "    # Remove stopwords\n",
    "    stop_words = set(stopwords.words('english'))\n",
    "    tokens = [token for token in tokens if token not in stop_words]\n",
    "    \n",
    "    # Lemmatize the tokens\n",
    "    lemmatizer = WordNetLemmatizer()\n",
    "    tokens = [lemmatizer.lemmatize(token) for token in tokens]\n",
    "    \n",
    "    # Return the preprocessed text\n",
    "    return tokens"
   ]
  },
  {
   "cell_type": "code",
   "execution_count": 12,
   "id": "32bf6da0",
   "metadata": {},
   "outputs": [],
   "source": [
    "def extract_text_from_pdf(file_path):\n",
    "    with open(file_path, 'rb') as file:\n",
    "        pdf_reader = PyPDF2.PdfReader(file)\n",
    "        num_pages = len(pdf_reader.pages)\n",
    "        resume_text = \"\"\n",
    "        \n",
    "        for page_number in range(num_pages):\n",
    "            page = pdf_reader.pages[page_number]\n",
    "            resume_text += page.extract_text()\n",
    "        \n",
    "        return resume_text"
   ]
  },
  {
   "cell_type": "code",
   "execution_count": 13,
   "id": "bf0209de",
   "metadata": {},
   "outputs": [],
   "source": [
    "\n",
    "def calculate_similarity(text1, text2):\n",
    "    # Create frequency distributions for the tokens\n",
    "    freq_dist1 = nltk.FreqDist(text1)\n",
    "    print(freq_dist1)\n",
    "    freq_dist2 = nltk.FreqDist(text2)\n",
    "    print(freq_dist2)\n",
    "    \n",
    "    # Calculate the Jaccard similarity coefficient\n",
    "    common_tokens = set(text1).intersection(set(text2))\n",
    "    similarity = len(common_tokens) / (len(text1) + len(text2) - len(common_tokens))\n",
    "    \n",
    "    return similarity\n"
   ]
  },
  {
   "cell_type": "code",
   "execution_count": 14,
   "id": "524eae99",
   "metadata": {},
   "outputs": [
    {
     "name": "stdout",
     "output_type": "stream",
     "text": [
      "Enter the job descriptionfruitseller with communication skills\n",
      "Enter the ResumeProfessional Resume.pdf\n"
     ]
    }
   ],
   "source": [
    "\n",
    "job_description = input(\"Enter the job description\")\n",
    "resume_file_path =input(\"Enter the Resume\")\n"
   ]
  },
  {
   "cell_type": "code",
   "execution_count": 15,
   "id": "4051d01d",
   "metadata": {},
   "outputs": [
    {
     "name": "stdout",
     "output_type": "stream",
     "text": [
      "preprocessed_job ..fetched...\n",
      "job_description fetched...\n",
      "precessing-resume... done...\n"
     ]
    }
   ],
   "source": [
    "preprocessed_job = preprocess_text(job_description)\n",
    "print(\"preprocessed_job ..fetched...\")\n",
    "print(\"job_description fetched...\")\n",
    "resume_text = extract_text_from_pdf(resume_file_path)\n",
    "preprocessed_resume = preprocess_text(resume_text)\n",
    "print(\"precessing-resume... done...\")\n",
    "skills_pattern = r\"(\\b[\\w\\s&]+)\\b\\s?(?:\\b[\\w\\s&]+?\\b\\s?){0,3}\\b(?:skills|proficient in|expert in|knowledge in)\\b\"\n",
    "experience_pattern = r\"(\\d+)\\s?(?:year[s]?)?\\s?(?:of)?\\s?(?:experience)?\"\n"
   ]
  },
  {
   "cell_type": "code",
   "execution_count": 17,
   "id": "d17f530e",
   "metadata": {},
   "outputs": [
    {
     "name": "stdout",
     "output_type": "stream",
     "text": [
      "Experiance.. fetched...\n",
      "Skills parsed..\n",
      "<FreqDist with 3 samples and 3 outcomes>\n",
      "<FreqDist with 157 samples and 276 outcomes>\n",
      "Percentage of Compentency for the role 0.007220216606498195\n",
      "The chosen candidate is: Candidate is not suitable\n"
     ]
    }
   ],
   "source": [
    "skills = re.findall(skills_pattern, resume_text, re.IGNORECASE)\n",
    "experience = re.findall(experience_pattern, resume_text, re.IGNORECASE)\n",
    "print(\"Experiance.. fetched...\")\n",
    "print(\"Skills parsed..\")\n",
    "similarity = calculate_similarity(preprocessed_job, preprocessed_resume)\n",
    "print(\"Percentage of Compentency for the role\",similarity)\n",
    "if similarity > 0.01:\n",
    "    chosen_candidate = \"Candidate is suitable\"\n",
    "else:\n",
    "    chosen_candidate = \"Candidate is not suitable\"\n",
    "\n",
    "print(\"The chosen candidate is:\", chosen_candidate)"
   ]
  }
 ],
 "metadata": {
  "kernelspec": {
   "display_name": "Python 3 (ipykernel)",
   "language": "python",
   "name": "python3"
  },
  "language_info": {
   "codemirror_mode": {
    "name": "ipython",
    "version": 3
   },
   "file_extension": ".py",
   "mimetype": "text/x-python",
   "name": "python",
   "nbconvert_exporter": "python",
   "pygments_lexer": "ipython3",
   "version": "3.11.3"
  }
 },
 "nbformat": 4,
 "nbformat_minor": 5
}
