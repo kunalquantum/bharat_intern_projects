{
 "cells": [
  {
   "cell_type": "code",
   "execution_count": 1,
   "id": "c7c9c99d",
   "metadata": {},
   "outputs": [
    {
     "name": "stdout",
     "output_type": "stream",
     "text": [
      "Requirement already satisfied: nltk in c:\\users\\admin\\anaconda3\\lib\\site-packages (3.7)\n",
      "Requirement already satisfied: click in c:\\users\\admin\\anaconda3\\lib\\site-packages (from nltk) (8.0.4)\n",
      "Requirement already satisfied: joblib in c:\\users\\admin\\anaconda3\\lib\\site-packages (from nltk) (1.2.0)\n",
      "Requirement already satisfied: regex>=2021.8.3 in c:\\users\\admin\\anaconda3\\lib\\site-packages (from nltk) (2022.7.9)\n",
      "Requirement already satisfied: tqdm in c:\\users\\admin\\anaconda3\\lib\\site-packages (from nltk) (4.65.0)\n",
      "Requirement already satisfied: colorama in c:\\users\\admin\\anaconda3\\lib\\site-packages (from click->nltk) (0.4.6)\n",
      "Note: you may need to restart the kernel to use updated packages.\n"
     ]
    }
   ],
   "source": [
    "pip install nltk\n"
   ]
  },
  {
   "cell_type": "code",
   "execution_count": 2,
   "id": "6dbdfaee",
   "metadata": {},
   "outputs": [],
   "source": [
    "import nltk\n",
    "from nltk.corpus import words, brown, reuters\n",
    "from nltk.metrics.distance import edit_distance"
   ]
  },
  {
   "cell_type": "code",
   "execution_count": 3,
   "id": "7ca9778c",
   "metadata": {},
   "outputs": [
    {
     "name": "stderr",
     "output_type": "stream",
     "text": [
      "[nltk_data] Downloading package words to\n",
      "[nltk_data]     C:\\Users\\Admin\\AppData\\Roaming\\nltk_data...\n",
      "[nltk_data]   Package words is already up-to-date!\n",
      "[nltk_data] Downloading package brown to\n",
      "[nltk_data]     C:\\Users\\Admin\\AppData\\Roaming\\nltk_data...\n",
      "[nltk_data]   Package brown is already up-to-date!\n",
      "[nltk_data] Downloading package reuters to\n",
      "[nltk_data]     C:\\Users\\Admin\\AppData\\Roaming\\nltk_data...\n",
      "[nltk_data]   Package reuters is already up-to-date!\n"
     ]
    },
    {
     "data": {
      "text/plain": [
       "True"
      ]
     },
     "execution_count": 3,
     "metadata": {},
     "output_type": "execute_result"
    }
   ],
   "source": [
    "nltk.download('words')\n",
    "nltk.download('brown')\n",
    "nltk.download('reuters')"
   ]
  },
  {
   "cell_type": "code",
   "execution_count": 4,
   "id": "b413000d",
   "metadata": {},
   "outputs": [],
   "source": [
    "# Combine words from different corpora to create a more extensive word list\n",
    "word_list = set(words.words() + brown.words() + reuters.words())"
   ]
  },
  {
   "cell_type": "code",
   "execution_count": 5,
   "id": "27697698",
   "metadata": {},
   "outputs": [],
   "source": [
    "# Load the words corpus\n",
    "word_list = words.words()\n",
    "word_set = set(word_list)"
   ]
  },
  {
   "cell_type": "code",
   "execution_count": 6,
   "id": "93c49d17",
   "metadata": {},
   "outputs": [],
   "source": [
    "\n",
    "def autocorrect(word):\n",
    "    \"\"\"\n",
    "    Autocorrects a misspelled word.\n",
    "    \"\"\"\n",
    "    if word in word_list:\n",
    "        return word\n",
    "\n",
    "   \n",
    "    suggestions = [(w, edit_distance(word, w)) for w in word_list]\n",
    "\n",
    "  \n",
    "    suggestions.sort(key=lambda x: x[1])\n",
    "\n",
    "    \n",
    "    return suggestions[0][0]"
   ]
  },
  {
   "cell_type": "code",
   "execution_count": 7,
   "id": "e6bafe77",
   "metadata": {},
   "outputs": [
    {
     "name": "stdout",
     "output_type": "stream",
     "text": [
      "the the word to correct obsoluti\n",
      "Input: obsoluti, Corrected: absolute\n"
     ]
    }
   ],
   "source": [
    "# Test the autocorrect function\n",
    "input_word = input(\"the the word to correct \")\n",
    "corrected_word = autocorrect(input_word)\n",
    "print(f\"Input: {input_word}, Corrected: {corrected_word}\")"
   ]
  },
  {
   "cell_type": "code",
   "execution_count": null,
   "id": "1788f4ec",
   "metadata": {},
   "outputs": [],
   "source": []
  }
 ],
 "metadata": {
  "kernelspec": {
   "display_name": "Python 3 (ipykernel)",
   "language": "python",
   "name": "python3"
  },
  "language_info": {
   "codemirror_mode": {
    "name": "ipython",
    "version": 3
   },
   "file_extension": ".py",
   "mimetype": "text/x-python",
   "name": "python",
   "nbconvert_exporter": "python",
   "pygments_lexer": "ipython3",
   "version": "3.11.3"
  }
 },
 "nbformat": 4,
 "nbformat_minor": 5
}
